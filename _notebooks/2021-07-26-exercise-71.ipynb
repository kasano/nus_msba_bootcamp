{
 "cells": [
  {
   "cell_type": "markdown",
   "id": "25ef7291",
   "metadata": {},
   "source": [
    "# Exercise 7-1\n",
    "\n",
    "## Recommended Music\n",
    "\n",
    "https://www.youtube.com/watch?v=RMds1pQNoeE"
   ]
  },
  {
   "cell_type": "code",
   "execution_count": 1,
   "id": "b6bcd735",
   "metadata": {},
   "outputs": [],
   "source": [
    "import pandas as pd\n",
    "\n",
    "from sklearn import tree\n",
    "from sklearn import metrics"
   ]
  },
  {
   "cell_type": "code",
   "execution_count": 13,
   "id": "b126e0f9",
   "metadata": {},
   "outputs": [],
   "source": [
    "df = pd.read_csv('../data/forbes_2000.csv', index_col=0)\n",
    "\n",
    "df.dropna(inplace=True)"
   ]
  },
  {
   "cell_type": "code",
   "execution_count": 15,
   "id": "230d787d",
   "metadata": {},
   "outputs": [
    {
     "data": {
      "text/plain": [
       "count    1995.000000\n",
       "mean       11.899183\n",
       "std        24.486723\n",
       "min         0.020000\n",
       "50%         5.150000\n",
       "80%        12.922000\n",
       "85%        17.089000\n",
       "90%        23.748000\n",
       "95%        44.425000\n",
       "max       328.540000\n",
       "Name: marketvalue, dtype: float64"
      ]
     },
     "execution_count": 15,
     "metadata": {},
     "output_type": "execute_result"
    }
   ],
   "source": [
    "df['marketvalue'].describe(percentiles=[0.8,0.85,0.9,0.95])"
   ]
  },
  {
   "cell_type": "code",
   "execution_count": 20,
   "id": "f799f2c0",
   "metadata": {},
   "outputs": [],
   "source": [
    "df['marketvalue'] = (df['marketvalue'] >= 44) * 1"
   ]
  },
  {
   "cell_type": "code",
   "execution_count": 22,
   "id": "ceba042e",
   "metadata": {},
   "outputs": [
    {
     "name": "stdout",
     "output_type": "stream",
     "text": [
      "Accuracy = 1.0\n"
     ]
    }
   ],
   "source": [
    "x = df[['sales','assets','profits']]\n",
    "y = df['marketvalue']\n",
    "\n",
    "clf = tree.DecisionTreeClassifier(criterion='gini', splitter='best')\n",
    "clf = clf.fit(x, y)\n",
    "y_pred = clf.predict(x)\n",
    "\n",
    "print('Accuracy = {}'.format(metrics.accuracy_score(y, y_pred)))"
   ]
  },
  {
   "cell_type": "code",
   "execution_count": 24,
   "id": "a4a2f046",
   "metadata": {},
   "outputs": [
    {
     "name": "stdout",
     "output_type": "stream",
     "text": [
      "Confusion = \n",
      "[[1890    0]\n",
      " [   0  105]]\n"
     ]
    },
    {
     "name": "stderr",
     "output_type": "stream",
     "text": [
      "/Users/kyleasano/Library/Caches/pypoetry/virtualenvs/bootcamp-base-5Tb-eTjs-py3.8/lib/python3.8/site-packages/sklearn/utils/validation.py:70: FutureWarning: Pass labels=[0, 1] as keyword args. From version 1.0 (renaming of 0.25) passing these as positional arguments will result in an error\n",
      "  warnings.warn(f\"Pass {args_msg} as keyword args. From version \"\n"
     ]
    }
   ],
   "source": [
    "print('Confusion = \\n{}'.format(metrics.confusion_matrix(y, y_pred, [0,1])))"
   ]
  },
  {
   "cell_type": "code",
   "execution_count": null,
   "id": "7ecf18bd",
   "metadata": {},
   "outputs": [],
   "source": []
  }
 ],
 "metadata": {
  "kernelspec": {
   "display_name": "Python 3 (ipykernel)",
   "language": "python",
   "name": "python3"
  },
  "language_info": {
   "codemirror_mode": {
    "name": "ipython",
    "version": 3
   },
   "file_extension": ".py",
   "mimetype": "text/x-python",
   "name": "python",
   "nbconvert_exporter": "python",
   "pygments_lexer": "ipython3",
   "version": "3.8.5"
  }
 },
 "nbformat": 4,
 "nbformat_minor": 5
}
