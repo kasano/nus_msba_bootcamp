{
 "cells": [
  {
   "cell_type": "markdown",
   "id": "25ef7291",
   "metadata": {},
   "source": [
    "# Exercise 7-1\n",
    "\n",
    "## Recommended Music\n",
    "\n",
    "https://www.youtube.com/watch?v=RMds1pQNoeE"
   ]
  },
  {
   "cell_type": "code",
   "execution_count": null,
   "id": "b6bcd735",
   "metadata": {},
   "outputs": [],
   "source": [
    "import pandas as pd\n",
    "\n",
    "from sklearn import tree\n",
    "from sklearn import metrics"
   ]
  },
  {
   "cell_type": "code",
   "execution_count": null,
   "id": "b126e0f9",
   "metadata": {},
   "outputs": [],
   "source": [
    "df = pd.read_csv('../../data/Forbes2000.csv', index_col=0)\n",
    "\n",
    "df.dropna(inplace=True)"
   ]
  },
  {
   "cell_type": "code",
   "execution_count": null,
   "id": "230d787d",
   "metadata": {},
   "outputs": [],
   "source": [
    "df['marketvalue'].describe()"
   ]
  },
  {
   "cell_type": "code",
   "execution_count": null,
   "id": "f799f2c0",
   "metadata": {},
   "outputs": [],
   "source": [
    "df['marketvalue'] = "
   ]
  },
  {
   "cell_type": "code",
   "execution_count": null,
   "id": "ceba042e",
   "metadata": {},
   "outputs": [],
   "source": [
    "independent_variables = df.drop('marketvalue', axis=1)\n",
    "\n",
    "x = independent_variables\n",
    "y = df['marketvalue']\n",
    "\n",
    "clf = tree.DecisionTreeClassifier(criterion='gini', splitter='best')\n",
    "clf = clf.fit(x, y)\n",
    "y_pred = clf.predict(x)\n",
    "\n",
    "print('Accuracy = {}'.format(metrics.accuracy_score(y, y_pred)))"
   ]
  },
  {
   "cell_type": "code",
   "execution_count": null,
   "id": "a4a2f046",
   "metadata": {},
   "outputs": [],
   "source": [
    "print('Confusion = \\n{}'.format(metrics.confusion_matrix(y, y_pred, ['Low','High'])))"
   ]
  }
 ],
 "metadata": {
  "kernelspec": {
   "display_name": "Python 3 (ipykernel)",
   "language": "python",
   "name": "python3"
  },
  "language_info": {
   "codemirror_mode": {
    "name": "ipython",
    "version": 3
   },
   "file_extension": ".py",
   "mimetype": "text/x-python",
   "name": "python",
   "nbconvert_exporter": "python",
   "pygments_lexer": "ipython3",
   "version": "3.8.5"
  }
 },
 "nbformat": 4,
 "nbformat_minor": 5
}
