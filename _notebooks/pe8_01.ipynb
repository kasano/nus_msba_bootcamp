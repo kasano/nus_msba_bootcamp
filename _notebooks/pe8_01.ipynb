{
 "cells": [
  {
   "cell_type": "code",
   "execution_count": 1,
   "metadata": {},
   "outputs": [],
   "source": [
    "import math\n",
    "import numpy as np\n",
    "import pandas as pd\n",
    "\n",
    "import scipy.stats as stats\n",
    "\n",
    "from sklearn import preprocessing\n",
    "from sklearn.model_selection import train_test_split\n",
    "from sklearn import tree\n",
    "from sklearn import metrics\n",
    "\n",
    "## import graphviz \n",
    "\n",
    "\n",
    "\n",
    "pd.set_option('display.max_columns', None)\n",
    "pd.set_option('display.width', 1200)\n",
    "pd.set_option('display.max_rows', 1000)"
   ]
  },
  {
   "cell_type": "code",
   "execution_count": 7,
   "metadata": {},
   "outputs": [],
   "source": [
    "df = pd.read_csv('../data/census-income.csv')\n",
    "df = df.dropna()\n",
    "#df"
   ]
  },
  {
   "cell_type": "code",
   "execution_count": 8,
   "metadata": {},
   "outputs": [],
   "source": [
    "selected_columns = ['workclass','education','occupation','race','sex']\n",
    "\n",
    "df_categorical = pd.get_dummies(data=df[selected_columns],prefix=selected_columns)\n",
    "\n",
    "dfactual = pd.concat([df[['Income','age']], df_categorical], axis=1)\n"
   ]
  },
  {
   "cell_type": "code",
   "execution_count": 11,
   "metadata": {},
   "outputs": [
    {
     "name": "stdout",
     "output_type": "stream",
     "text": [
      "Training Accuracy = 0.7987495855633969\n"
     ]
    }
   ],
   "source": [
    "independent_variables = dfactual.drop('Income', axis=1)\n",
    "x = independent_variables\n",
    "y = dfactual['Income']\n",
    "\n",
    "x_train, x_test, y_train, y_test = train_test_split(x, y, train_size = 0.7, test_size = 0.3, shuffle = False)\n",
    "\n",
    "# decisionTreeClassifier = tree.DecisionTreeClassifier(criterion='gini', splitter='best')\n",
    "decisionTreeClassifier = tree.DecisionTreeClassifier(criterion='gini', splitter='best', max_depth=5)\n",
    "decisionTreeClassifier.fit(x_train, y_train)\n",
    "y_train_pred = decisionTreeClassifier.predict(x_train)\n",
    "\n",
    "print('Training Accuracy = {}'.format(metrics.accuracy_score(y_train, y_train_pred)))"
   ]
  },
  {
   "cell_type": "code",
   "execution_count": 12,
   "metadata": {},
   "outputs": [
    {
     "name": "stdout",
     "output_type": "stream",
     "text": [
      "Training Confusion = \n",
      "[[14351  1559]\n",
      " [ 2690  2513]]\n"
     ]
    }
   ],
   "source": [
    "print('Training Confusion = \\n{}'.format(metrics.confusion_matrix(y_train, y_train_pred, labels=['lte50k','gt50k'])))"
   ]
  },
  {
   "cell_type": "code",
   "execution_count": 13,
   "metadata": {},
   "outputs": [
    {
     "name": "stdout",
     "output_type": "stream",
     "text": [
      "Testing Accuracy = 0.7971046524477843\n"
     ]
    }
   ],
   "source": [
    "y_test_pred = decisionTreeClassifier.predict(x_test)\n",
    "\n",
    "print('Testing Accuracy = {}'.format(metrics.accuracy_score(y_test, y_test_pred)))"
   ]
  },
  {
   "cell_type": "code",
   "execution_count": 14,
   "metadata": {},
   "outputs": [
    {
     "name": "stdout",
     "output_type": "stream",
     "text": [
      "Testing Confusion = \n",
      "[[6092  652]\n",
      " [1184 1121]]\n"
     ]
    }
   ],
   "source": [
    "print('Testing Confusion = \\n{}'.format(metrics.confusion_matrix(y_test, y_test_pred, labels=['lte50k','gt50k'])))"
   ]
  },
  {
   "cell_type": "code",
   "execution_count": null,
   "metadata": {},
   "outputs": [],
   "source": [
    "dot_data = tree.export_graphviz(decisionTreeClassifier, out_file=None, feature_names=dfactual.drop('Income', axis=1).columns, \n",
    "                                class_names=['lte50k','gt50k'], filled=True, rounded=True, special_characters=True)\n",
    "graph = graphviz.Source(dot_data)\n",
    "graph.render(\"../data/income-train\")"
   ]
  }
 ],
 "metadata": {
  "kernelspec": {
   "display_name": "Python 3 (ipykernel)",
   "language": "python",
   "name": "python3"
  },
  "language_info": {
   "codemirror_mode": {
    "name": "ipython",
    "version": 3
   },
   "file_extension": ".py",
   "mimetype": "text/x-python",
   "name": "python",
   "nbconvert_exporter": "python",
   "pygments_lexer": "ipython3",
   "version": "3.8.5"
  }
 },
 "nbformat": 4,
 "nbformat_minor": 4
}
