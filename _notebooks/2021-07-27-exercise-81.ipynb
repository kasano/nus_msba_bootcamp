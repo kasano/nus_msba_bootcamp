{
 "cells": [
  {
   "cell_type": "markdown",
   "id": "672e4253",
   "metadata": {},
   "source": [
    "# Exercise 8-1"
   ]
  },
  {
   "cell_type": "markdown",
   "id": "13072e6f",
   "metadata": {},
   "source": [
    "## Recommended Music\n",
    "\n",
    "> youtube: https://www.youtube.com/watch?v=eOQ7aFm6gpo"
   ]
  },
  {
   "cell_type": "code",
   "execution_count": null,
   "id": "e2a6144c",
   "metadata": {},
   "outputs": [],
   "source": [
    "import pandas as pd"
   ]
  }
 ],
 "metadata": {
  "kernelspec": {
   "display_name": "Python 3 (ipykernel)",
   "language": "python",
   "name": "python3"
  },
  "language_info": {
   "codemirror_mode": {
    "name": "ipython",
    "version": 3
   },
   "file_extension": ".py",
   "mimetype": "text/x-python",
   "name": "python",
   "nbconvert_exporter": "python",
   "pygments_lexer": "ipython3",
   "version": "3.8.5"
  }
 },
 "nbformat": 4,
 "nbformat_minor": 5
}
